{
 "cells": [
  {
   "cell_type": "markdown",
   "id": "4f377a68-2198-4b02-a485-431f3f44d640",
   "metadata": {},
   "source": [
    "# Dit is een test of ik een mooi binder notebook kan maken :)"
   ]
  },
  {
   "cell_type": "code",
   "execution_count": 1,
   "id": "f76f0b10-d598-48f8-ba37-9cf3e0d476df",
   "metadata": {},
   "outputs": [
    {
     "data": {
      "text/plain": [
       "'Hey Freddy, dit is cool!'"
      ]
     },
     "execution_count": 1,
     "metadata": {},
     "output_type": "execute_result"
    }
   ],
   "source": [
    "text = 'Hey Freddy, dit is cool!'\n",
    "text"
   ]
  },
  {
   "cell_type": "markdown",
   "id": "3cdc259e-64c8-48ba-b7d7-933993d86b78",
   "metadata": {},
   "source": [
    "We kunnen zelfs dependencies inladen :)"
   ]
  },
  {
   "cell_type": "code",
   "execution_count": 2,
   "id": "5eabbc91-14d2-468c-9b27-f89d639342e0",
   "metadata": {},
   "outputs": [
    {
     "data": {
      "text/plain": [
       "'Hey Freddy, dit is cool!'"
      ]
     },
     "execution_count": 2,
     "metadata": {},
     "output_type": "execute_result"
    }
   ],
   "source": [
    "import numpy as np\n",
    "array = np.array(list(text))\n",
    "''.join(array)"
   ]
  },
  {
   "cell_type": "code",
   "execution_count": null,
   "id": "b5dbf4de-d545-43e2-9e24-d3bb187de6cf",
   "metadata": {},
   "outputs": [],
   "source": []
  }
 ],
 "metadata": {
  "kernelspec": {
   "display_name": "Python 3",
   "language": "python",
   "name": "python3"
  },
  "language_info": {
   "codemirror_mode": {
    "name": "ipython",
    "version": 3
   },
   "file_extension": ".py",
   "mimetype": "text/x-python",
   "name": "python",
   "nbconvert_exporter": "python",
   "pygments_lexer": "ipython3",
   "version": "3.8.8"
  }
 },
 "nbformat": 4,
 "nbformat_minor": 5
}
